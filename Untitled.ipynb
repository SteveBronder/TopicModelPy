{
 "cells": [
  {
   "cell_type": "code",
   "execution_count": 1,
   "metadata": {
    "collapsed": true
   },
   "outputs": [],
   "source": [
    "import nltk\n",
    "import numpy as np\n",
    "import pandas as pd\n",
    "import os\n",
    "import glob\n",
    "import random\n",
    "\n",
    "from sklearn.feature_extraction.text import CountVectorizer\n",
    "from sklearn.metrics.pairwise import cosine_similarity\n",
    "from sklearn.feature_extraction.text import TfidfVectorizer\n",
    "from scipy.special import gammaln\n",
    "\n"
   ]
  },
  {
   "cell_type": "code",
   "execution_count": 2,
   "metadata": {
    "collapsed": true
   },
   "outputs": [],
   "source": [
    "\n",
    "DIR = r'data_folder/wordcounts'\n",
    "allfiles = glob.glob(os.path.join(DIR,\"*.CSV\"))\n",
    "\n",
    "p = .5\n",
    "rand_sample = [ allfiles[i] for i in sorted(random.sample(xrange(len(allfiles)), int(p * len(allfiles)))) ]\n",
    "rand_sample\n",
    "    \n",
    "np_array_list = []\n",
    "for file_ in rand_sample:\n",
    "    df = pd.read_csv(file_,index_col=None, header=0)\n",
    "    df['source'] = file_\n",
    "    np_array_list.append(df.as_matrix())\n",
    "    \n",
    "comb_np_array = np.vstack(np_array_list)\n",
    "big_frame = pd.DataFrame(comb_np_array)\n",
    "big_frame.columns = ['words','count','source']\n",
    "\n",
    "big_frame = big_frame.pivot(index = 'source',columns = 'words', values = 'count')\n",
    "big_frame = big_frame.fillna(value = 0)"
   ]
  },
  {
   "cell_type": "code",
   "execution_count": 3,
   "metadata": {
    "collapsed": false
   },
   "outputs": [
    {
     "data": {
      "text/html": [
       "<div>\n",
       "<table border=\"1\" class=\"dataframe\">\n",
       "  <thead>\n",
       "    <tr style=\"text-align: right;\">\n",
       "      <th>words</th>\n",
       "      <th>aaby</th>\n",
       "      <th>aalen</th>\n",
       "      <th>aamse</th>\n",
       "      <th>aaron</th>\n",
       "      <th>abab</th>\n",
       "      <th>ababab</th>\n",
       "      <th>abandon</th>\n",
       "      <th>abandoned</th>\n",
       "      <th>abandonment</th>\n",
       "      <th>abba</th>\n",
       "      <th>...</th>\n",
       "      <th>zurich</th>\n",
       "      <th>zurnal</th>\n",
       "      <th>zv</th>\n",
       "      <th>zvi</th>\n",
       "      <th>zw</th>\n",
       "      <th>zwet</th>\n",
       "      <th>zy</th>\n",
       "      <th>zygmund</th>\n",
       "      <th>zyskind</th>\n",
       "      <th>zz</th>\n",
       "    </tr>\n",
       "    <tr>\n",
       "      <th>source</th>\n",
       "      <th></th>\n",
       "      <th></th>\n",
       "      <th></th>\n",
       "      <th></th>\n",
       "      <th></th>\n",
       "      <th></th>\n",
       "      <th></th>\n",
       "      <th></th>\n",
       "      <th></th>\n",
       "      <th></th>\n",
       "      <th></th>\n",
       "      <th></th>\n",
       "      <th></th>\n",
       "      <th></th>\n",
       "      <th></th>\n",
       "      <th></th>\n",
       "      <th></th>\n",
       "      <th></th>\n",
       "      <th></th>\n",
       "      <th></th>\n",
       "      <th></th>\n",
       "    </tr>\n",
       "  </thead>\n",
       "  <tbody>\n",
       "    <tr>\n",
       "      <th>data_folder/wordcounts/wordcounts_10.2307_2276722.CSV</th>\n",
       "      <td>0</td>\n",
       "      <td>0</td>\n",
       "      <td>0</td>\n",
       "      <td>0</td>\n",
       "      <td>0</td>\n",
       "      <td>0</td>\n",
       "      <td>0</td>\n",
       "      <td>0</td>\n",
       "      <td>0</td>\n",
       "      <td>0</td>\n",
       "      <td>...</td>\n",
       "      <td>0</td>\n",
       "      <td>0</td>\n",
       "      <td>0</td>\n",
       "      <td>0</td>\n",
       "      <td>0</td>\n",
       "      <td>0</td>\n",
       "      <td>0</td>\n",
       "      <td>0</td>\n",
       "      <td>0</td>\n",
       "      <td>0</td>\n",
       "    </tr>\n",
       "    <tr>\n",
       "      <th>data_folder/wordcounts/wordcounts_10.2307_2276732.CSV</th>\n",
       "      <td>0</td>\n",
       "      <td>0</td>\n",
       "      <td>0</td>\n",
       "      <td>0</td>\n",
       "      <td>0</td>\n",
       "      <td>0</td>\n",
       "      <td>0</td>\n",
       "      <td>0</td>\n",
       "      <td>0</td>\n",
       "      <td>0</td>\n",
       "      <td>...</td>\n",
       "      <td>0</td>\n",
       "      <td>0</td>\n",
       "      <td>0</td>\n",
       "      <td>0</td>\n",
       "      <td>0</td>\n",
       "      <td>0</td>\n",
       "      <td>0</td>\n",
       "      <td>0</td>\n",
       "      <td>0</td>\n",
       "      <td>0</td>\n",
       "    </tr>\n",
       "    <tr>\n",
       "      <th>data_folder/wordcounts/wordcounts_10.2307_2276742.CSV</th>\n",
       "      <td>0</td>\n",
       "      <td>0</td>\n",
       "      <td>0</td>\n",
       "      <td>0</td>\n",
       "      <td>0</td>\n",
       "      <td>0</td>\n",
       "      <td>0</td>\n",
       "      <td>0</td>\n",
       "      <td>0</td>\n",
       "      <td>0</td>\n",
       "      <td>...</td>\n",
       "      <td>0</td>\n",
       "      <td>0</td>\n",
       "      <td>0</td>\n",
       "      <td>0</td>\n",
       "      <td>0</td>\n",
       "      <td>0</td>\n",
       "      <td>0</td>\n",
       "      <td>0</td>\n",
       "      <td>0</td>\n",
       "      <td>0</td>\n",
       "    </tr>\n",
       "    <tr>\n",
       "      <th>data_folder/wordcounts/wordcounts_10.2307_2276818.CSV</th>\n",
       "      <td>0</td>\n",
       "      <td>0</td>\n",
       "      <td>0</td>\n",
       "      <td>0</td>\n",
       "      <td>0</td>\n",
       "      <td>0</td>\n",
       "      <td>0</td>\n",
       "      <td>0</td>\n",
       "      <td>0</td>\n",
       "      <td>0</td>\n",
       "      <td>...</td>\n",
       "      <td>0</td>\n",
       "      <td>0</td>\n",
       "      <td>0</td>\n",
       "      <td>0</td>\n",
       "      <td>0</td>\n",
       "      <td>0</td>\n",
       "      <td>0</td>\n",
       "      <td>0</td>\n",
       "      <td>0</td>\n",
       "      <td>0</td>\n",
       "    </tr>\n",
       "    <tr>\n",
       "      <th>data_folder/wordcounts/wordcounts_10.2307_2276825.CSV</th>\n",
       "      <td>0</td>\n",
       "      <td>0</td>\n",
       "      <td>0</td>\n",
       "      <td>0</td>\n",
       "      <td>0</td>\n",
       "      <td>0</td>\n",
       "      <td>0</td>\n",
       "      <td>0</td>\n",
       "      <td>0</td>\n",
       "      <td>0</td>\n",
       "      <td>...</td>\n",
       "      <td>0</td>\n",
       "      <td>0</td>\n",
       "      <td>0</td>\n",
       "      <td>0</td>\n",
       "      <td>0</td>\n",
       "      <td>0</td>\n",
       "      <td>0</td>\n",
       "      <td>0</td>\n",
       "      <td>0</td>\n",
       "      <td>0</td>\n",
       "    </tr>\n",
       "  </tbody>\n",
       "</table>\n",
       "<p>5 rows × 9993 columns</p>\n",
       "</div>"
      ],
      "text/plain": [
       "words                                               aaby  aalen  aamse  aaron  \\\n",
       "source                                                                          \n",
       "data_folder/wordcounts/wordcounts_10.2307_22767...     0      0      0      0   \n",
       "data_folder/wordcounts/wordcounts_10.2307_22767...     0      0      0      0   \n",
       "data_folder/wordcounts/wordcounts_10.2307_22767...     0      0      0      0   \n",
       "data_folder/wordcounts/wordcounts_10.2307_22768...     0      0      0      0   \n",
       "data_folder/wordcounts/wordcounts_10.2307_22768...     0      0      0      0   \n",
       "\n",
       "words                                               abab  ababab  abandon  \\\n",
       "source                                                                      \n",
       "data_folder/wordcounts/wordcounts_10.2307_22767...     0       0        0   \n",
       "data_folder/wordcounts/wordcounts_10.2307_22767...     0       0        0   \n",
       "data_folder/wordcounts/wordcounts_10.2307_22767...     0       0        0   \n",
       "data_folder/wordcounts/wordcounts_10.2307_22768...     0       0        0   \n",
       "data_folder/wordcounts/wordcounts_10.2307_22768...     0       0        0   \n",
       "\n",
       "words                                               abandoned  abandonment  \\\n",
       "source                                                                       \n",
       "data_folder/wordcounts/wordcounts_10.2307_22767...          0            0   \n",
       "data_folder/wordcounts/wordcounts_10.2307_22767...          0            0   \n",
       "data_folder/wordcounts/wordcounts_10.2307_22767...          0            0   \n",
       "data_folder/wordcounts/wordcounts_10.2307_22768...          0            0   \n",
       "data_folder/wordcounts/wordcounts_10.2307_22768...          0            0   \n",
       "\n",
       "words                                               abba ...  zurich  zurnal  \\\n",
       "source                                                   ...                   \n",
       "data_folder/wordcounts/wordcounts_10.2307_22767...     0 ...       0       0   \n",
       "data_folder/wordcounts/wordcounts_10.2307_22767...     0 ...       0       0   \n",
       "data_folder/wordcounts/wordcounts_10.2307_22767...     0 ...       0       0   \n",
       "data_folder/wordcounts/wordcounts_10.2307_22768...     0 ...       0       0   \n",
       "data_folder/wordcounts/wordcounts_10.2307_22768...     0 ...       0       0   \n",
       "\n",
       "words                                               zv  zvi  zw  zwet  zy  \\\n",
       "source                                                                      \n",
       "data_folder/wordcounts/wordcounts_10.2307_22767...   0    0   0     0   0   \n",
       "data_folder/wordcounts/wordcounts_10.2307_22767...   0    0   0     0   0   \n",
       "data_folder/wordcounts/wordcounts_10.2307_22767...   0    0   0     0   0   \n",
       "data_folder/wordcounts/wordcounts_10.2307_22768...   0    0   0     0   0   \n",
       "data_folder/wordcounts/wordcounts_10.2307_22768...   0    0   0     0   0   \n",
       "\n",
       "words                                               zygmund  zyskind  zz  \n",
       "source                                                                    \n",
       "data_folder/wordcounts/wordcounts_10.2307_22767...        0        0   0  \n",
       "data_folder/wordcounts/wordcounts_10.2307_22767...        0        0   0  \n",
       "data_folder/wordcounts/wordcounts_10.2307_22767...        0        0   0  \n",
       "data_folder/wordcounts/wordcounts_10.2307_22768...        0        0   0  \n",
       "data_folder/wordcounts/wordcounts_10.2307_22768...        0        0   0  \n",
       "\n",
       "[5 rows x 9993 columns]"
      ]
     },
     "execution_count": 3,
     "metadata": {},
     "output_type": "execute_result"
    }
   ],
   "source": [
    "big_frame = big_frame.loc[:, (big_frame.sum(axis = 0) > 2)]\n",
    "big_frame = big_frame.loc[:, (big_frame.sum(axis = 0) < 20)]\n",
    "big_frame.head()\n"
   ]
  },
  {
   "cell_type": "code",
   "execution_count": 4,
   "metadata": {
    "collapsed": false
   },
   "outputs": [
    {
     "data": {
      "text/plain": [
       "0   -923.993245\n",
       "dtype: float64"
      ]
     },
     "execution_count": 4,
     "metadata": {},
     "output_type": "execute_result"
    }
   ],
   "source": [
    "def log_multinomial_beta(alpha):\n",
    "    '''\n",
    "    Function to take the logarithm of the multinomial beta function\n",
    "    '''\n",
    "    return np.sum(gammaln(alpha)) - gammaln(np.sum(alpha))\n",
    "\n",
    "testAlpha = pd.DataFrame(random.sample(range(1,100),10),index = xrange(10), columns = xrange(1))\n",
    "log_multinomial_beta(testAlpha)\n"
   ]
  },
  {
   "cell_type": "code",
   "execution_count": 78,
   "metadata": {
    "collapsed": false
   },
   "outputs": [
    {
     "ename": "MemoryError",
     "evalue": "",
     "output_type": "error",
     "traceback": [
      "\u001b[1;31m---------------------------------------------------------------------------\u001b[0m",
      "\u001b[1;31mMemoryError\u001b[0m                               Traceback (most recent call last)",
      "\u001b[1;32m<ipython-input-78-75c826e81ce4>\u001b[0m in \u001b[0;36m<module>\u001b[1;34m()\u001b[0m\n\u001b[0;32m     31\u001b[0m \u001b[0mbig_frame_index\u001b[0m \u001b[1;33m=\u001b[0m \u001b[0mbig_frame\u001b[0m\u001b[1;33m.\u001b[0m\u001b[0mstack\u001b[0m\u001b[1;33m(\u001b[0m\u001b[1;33m)\u001b[0m\u001b[1;33m\u001b[0m\u001b[0m\n\u001b[0;32m     32\u001b[0m \u001b[1;33m\u001b[0m\u001b[0m\n\u001b[1;32m---> 33\u001b[1;33m \u001b[0mNZM\u001b[0m\u001b[1;33m[\u001b[0m\u001b[0mZ_index\u001b[0m\u001b[1;33m,\u001b[0m\u001b[1;33m:\u001b[0m\u001b[1;33m]\u001b[0m \u001b[1;33m+=\u001b[0m \u001b[1;36m1\u001b[0m\u001b[1;33m\u001b[0m\u001b[0m\n\u001b[0m\u001b[0;32m     34\u001b[0m \u001b[0mNWZ\u001b[0m\u001b[1;33m[\u001b[0m\u001b[0mbig_frame_index\u001b[0m\u001b[1;33m,\u001b[0m\u001b[0mZ_index\u001b[0m\u001b[1;33m]\u001b[0m \u001b[1;33m+=\u001b[0m\u001b[1;36m1\u001b[0m\u001b[1;33m\u001b[0m\u001b[0m\n\u001b[0;32m     35\u001b[0m \u001b[0mNZ\u001b[0m\u001b[1;33m[\u001b[0m\u001b[0mZ_index\u001b[0m\u001b[1;33m]\u001b[0m \u001b[1;33m+=\u001b[0m \u001b[1;36m1\u001b[0m\u001b[1;33m\u001b[0m\u001b[0m\n",
      "\u001b[1;31mMemoryError\u001b[0m: "
     ]
    }
   ],
   "source": [
    "M, N = big_frame.shape\n",
    "\n",
    "# Dimensions\n",
    "# M: Number of documents\n",
    "# N: Number of words\n",
    "# ntopics: Number of topics\n",
    "\n",
    "alpha = .01\n",
    "beta = .01\n",
    "burn_in = 10\n",
    "max_iter = 100\n",
    "ntopics = 6\n",
    "\n",
    "NWZ = np.zeros((M,ntopics), dtype=np.float64) + beta\n",
    "NZM = np.zeros((ntopics,M), dtype = np.float64) + alpha\n",
    "NZ = NWZ.sum(axis=0)\n",
    "Z = np.zeros((M,N), dtype = np.float64)\n",
    "Phi = np.zeros((M,N), dtype = np.float64)\n",
    "Theta = np.zeros((N,ntopics), dtype = np.float64)\n",
    "topicdraw = np.ones((1,ntopics), dtype = np.float64) / ntopics\n",
    "read_out_Phi = np.zeros((N,ntopics), dtype = np.float64)\n",
    "read_out_Theta = np.zeros((ntopics,M))\n",
    "read_out_sampling_num = 0\n",
    "logPw_z = np.zeros(max_iter, dtype = np.float64)\n",
    "betaVec = np.ones(ntopics, dtype = np.float64) * beta\n",
    "sampling_lag = 10\n",
    "\n",
    "Z = np.where(np.random.multinomial(1,[1./ntopics]*ntopics,size = M*N )==1)[1]\n",
    "Z_index = Z.reshape(M*N)\n",
    "Z = Z.reshape(M,N)\n",
    "big_frame_index = big_frame.stack()\n",
    "\n",
    "NZM[Z_index,:] += 1\n",
    "NWZ[big_frame_index,Z_index] +=1\n",
    "NZ[Z_index] += 1"
   ]
  },
  {
   "cell_type": "code",
   "execution_count": 77,
   "metadata": {
    "collapsed": false
   },
   "outputs": [
    {
     "data": {
      "text/plain": [
       "array([[False, False, False, ..., False, False, False],\n",
       "       [False, False, False, ..., False, False, False],\n",
       "       [False, False, False, ..., False, False, False],\n",
       "       [False, False, False, ..., False, False, False],\n",
       "       [False, False, False, ..., False, False, False],\n",
       "       [False, False, False, ..., False, False, False]], dtype=bool)"
      ]
     },
     "execution_count": 77,
     "metadata": {},
     "output_type": "execute_result"
    }
   ],
   "source": [
    "NZM <- 1"
   ]
  },
  {
   "cell_type": "code",
   "execution_count": 75,
   "metadata": {
    "collapsed": false
   },
   "outputs": [
    {
     "ename": "IndexError",
     "evalue": "index 7 is out of bounds for axis 0 with size 6",
     "output_type": "error",
     "traceback": [
      "\u001b[1;31m---------------------------------------------------------------------------\u001b[0m",
      "\u001b[1;31mIndexError\u001b[0m                                Traceback (most recent call last)",
      "\u001b[1;32m<ipython-input-75-452575139a16>\u001b[0m in \u001b[0;36m<module>\u001b[1;34m()\u001b[0m\n\u001b[1;32m----> 1\u001b[1;33m \u001b[0mNZM\u001b[0m\u001b[1;33m[\u001b[0m\u001b[1;36m7\u001b[0m\u001b[1;33m,\u001b[0m\u001b[1;36m499\u001b[0m\u001b[1;33m]\u001b[0m\u001b[1;33m\u001b[0m\u001b[0m\n\u001b[0m",
      "\u001b[1;31mIndexError\u001b[0m: index 7 is out of bounds for axis 0 with size 6"
     ]
    }
   ],
   "source": [
    "NZM[7,499]\n"
   ]
  },
  {
   "cell_type": "code",
   "execution_count": 60,
   "metadata": {
    "collapsed": false
   },
   "outputs": [
    {
     "ename": "ValueError",
     "evalue": "sum(pvals[:-1]) > 1.0",
     "output_type": "error",
     "traceback": [
      "\u001b[1;31m---------------------------------------------------------------------------\u001b[0m",
      "\u001b[1;31mValueError\u001b[0m                                Traceback (most recent call last)",
      "\u001b[1;32m<ipython-input-60-e777405dc9d7>\u001b[0m in \u001b[0;36m<module>\u001b[1;34m()\u001b[0m\n\u001b[0;32m     12\u001b[0m \u001b[1;33m\u001b[0m\u001b[0m\n\u001b[0;32m     13\u001b[0m                 \u001b[0mp\u001b[0m \u001b[1;33m=\u001b[0m \u001b[0mp\u001b[0m \u001b[1;33m/\u001b[0m \u001b[0mnp\u001b[0m\u001b[1;33m.\u001b[0m\u001b[0msum\u001b[0m\u001b[1;33m(\u001b[0m\u001b[0mp\u001b[0m\u001b[1;33m)\u001b[0m\u001b[1;33m\u001b[0m\u001b[0m\n\u001b[1;32m---> 14\u001b[1;33m                 \u001b[0mZ\u001b[0m\u001b[1;33m[\u001b[0m\u001b[0mm\u001b[0m\u001b[1;33m,\u001b[0m\u001b[0mn\u001b[0m\u001b[1;33m]\u001b[0m \u001b[1;33m=\u001b[0m \u001b[0mnp\u001b[0m\u001b[1;33m.\u001b[0m\u001b[0mwhere\u001b[0m\u001b[1;33m(\u001b[0m\u001b[0mnp\u001b[0m\u001b[1;33m.\u001b[0m\u001b[0mrandom\u001b[0m\u001b[1;33m.\u001b[0m\u001b[0mmultinomial\u001b[0m\u001b[1;33m(\u001b[0m\u001b[1;36m1\u001b[0m\u001b[1;33m,\u001b[0m\u001b[0mp\u001b[0m\u001b[1;33m,\u001b[0m\u001b[0msize\u001b[0m \u001b[1;33m=\u001b[0m \u001b[1;36m1\u001b[0m \u001b[1;33m)\u001b[0m \u001b[1;33m==\u001b[0m \u001b[1;36m1\u001b[0m\u001b[1;33m)\u001b[0m\u001b[1;33m[\u001b[0m\u001b[1;36m1\u001b[0m\u001b[1;33m]\u001b[0m\u001b[1;33m\u001b[0m\u001b[0m\n\u001b[0m\u001b[0;32m     15\u001b[0m                 \u001b[0mNZM\u001b[0m\u001b[1;33m[\u001b[0m\u001b[0mZ\u001b[0m\u001b[1;33m[\u001b[0m\u001b[0mm\u001b[0m\u001b[1;33m,\u001b[0m\u001b[0mn\u001b[0m\u001b[1;33m]\u001b[0m\u001b[1;33m,\u001b[0m\u001b[0mm\u001b[0m\u001b[1;33m]\u001b[0m \u001b[1;33m+=\u001b[0m \u001b[1;36m1\u001b[0m\u001b[1;33m\u001b[0m\u001b[0m\n\u001b[0;32m     16\u001b[0m                 \u001b[0mNWZ\u001b[0m\u001b[1;33m[\u001b[0m\u001b[0mbig_frame\u001b[0m\u001b[1;33m.\u001b[0m\u001b[0miloc\u001b[0m\u001b[1;33m[\u001b[0m\u001b[0mm\u001b[0m\u001b[1;33m,\u001b[0m\u001b[0mn\u001b[0m\u001b[1;33m]\u001b[0m\u001b[1;33m,\u001b[0m\u001b[0mZ\u001b[0m\u001b[1;33m[\u001b[0m\u001b[0mm\u001b[0m\u001b[1;33m,\u001b[0m\u001b[0mn\u001b[0m\u001b[1;33m]\u001b[0m\u001b[1;33m]\u001b[0m \u001b[1;33m+=\u001b[0m \u001b[1;36m1\u001b[0m\u001b[1;33m\u001b[0m\u001b[0m\n",
      "\u001b[1;32mmtrand.pyx\u001b[0m in \u001b[0;36mmtrand.RandomState.multinomial (numpy/random/mtrand/mtrand.c:20588)\u001b[1;34m()\u001b[0m\n",
      "\u001b[1;31mValueError\u001b[0m: sum(pvals[:-1]) > 1.0"
     ]
    }
   ],
   "source": [
    "Z.setflags(write=True)\n",
    "\n",
    "for iteration in xrange(max_iter):\n",
    "        for m in xrange(M):\n",
    "            for n in xrange(N):\n",
    "                NZM[Z[m,n],m] -= 1\n",
    "                NWZ[big_frame.iloc[m,n],Z[m,n]] -= 1\n",
    "                NZ[Z[m,n]] -= 1\n",
    "                p = np.zeros(ntopics, dtype = np.float64)\n",
    "                for k in xrange(ntopics):\n",
    "                    p[k] = NWZ[big_frame.iloc[m,n],k]/NZ[k] * NZM[k,m]\n",
    "                \n",
    "                p = p / np.sum(p)\n",
    "                Z[m,n] = np.where(np.random.multinomial(1,p,size = 1 ) == 1)[1]\n",
    "                NZM[Z[m,n],m] += 1\n",
    "                NWZ[big_frame.iloc[m,n],Z[m,n]] += 1\n",
    "                NZ[Z[m,n]] += 1\n",
    "        \n",
    "        \n",
    "        for ZZ in xrange(ntopics):\n",
    "            logPw_z[iteration] += log_multinomial_beta(NWZ[:,ZZ]) - log_multinomial_beta(betaVec)\n",
    "        \n",
    "        if iteration % sampling_lag == 0 or iteration % sampling_lag == 1:\n",
    "            if iteration >= burn_in:\n",
    "                read_out_sampling_num = read_out_sampling_num + 1\n",
    "                for k in xrange(ntopics):\n",
    "                    read_out_Phi[:,k] += NWZ[:,k] / NZ[k]\n",
    "                \n",
    "                for m in xrange(M):\n",
    "                    read_out_Theta[:,m] +=  NZM[:,m]/sum(NZM[:,m])\n",
    "                \n",
    "Phi = read_out_Phi / read_out_sampling_num\n",
    "Theta = read_out_Theta / read_out_sampling_num\n",
    "        \n",
    "        \n",
    "        \n"
   ]
  },
  {
   "cell_type": "code",
   "execution_count": 39,
   "metadata": {
    "collapsed": false
   },
   "outputs": [
    {
     "data": {
      "text/plain": [
       "array([[0, 5, 2, ..., 2, 1, 0],\n",
       "       [1, 1, 4, ..., 4, 2, 3],\n",
       "       [1, 4, 0, ..., 3, 2, 1],\n",
       "       ..., \n",
       "       [1, 1, 2, ..., 1, 2, 4],\n",
       "       [0, 2, 0, ..., 3, 3, 3],\n",
       "       [3, 2, 1, ..., 0, 4, 5]])"
      ]
     },
     "execution_count": 39,
     "metadata": {},
     "output_type": "execute_result"
    }
   ],
   "source": [
    "Z"
   ]
  },
  {
   "cell_type": "code",
   "execution_count": 23,
   "metadata": {
    "collapsed": false
   },
   "outputs": [
    {
     "data": {
      "text/plain": [
       "0    0.01\n",
       "Name: 1, dtype: float64"
      ]
     },
     "execution_count": 23,
     "metadata": {},
     "output_type": "execute_result"
    }
   ],
   "source": [
    "NWZ.iloc[Z,1]"
   ]
  }
 ],
 "metadata": {
  "kernelspec": {
   "display_name": "Python 2",
   "language": "python",
   "name": "python2"
  },
  "language_info": {
   "codemirror_mode": {
    "name": "ipython",
    "version": 2
   },
   "file_extension": ".py",
   "mimetype": "text/x-python",
   "name": "python",
   "nbconvert_exporter": "python",
   "pygments_lexer": "ipython2",
   "version": "2.7.6"
  }
 },
 "nbformat": 4,
 "nbformat_minor": 0
}
