{
 "cells": [
  {
   "cell_type": "code",
   "execution_count": 83,
   "metadata": {
    "collapsed": true
   },
   "outputs": [],
   "source": [
    "import nltk\n",
    "import numpy as np\n",
    "import pandas as pd\n",
    "import os\n",
    "import glob\n",
    "import random\n",
    "\n",
    "from sklearn.feature_extraction.text import CountVectorizer\n",
    "from sklearn.metrics.pairwise import cosine_similarity\n",
    "from sklearn.feature_extraction.text import TfidfVectorizer\n",
    "from scipy.special import gammaln\n",
    "\n"
   ]
  },
  {
   "cell_type": "code",
   "execution_count": 84,
   "metadata": {
    "collapsed": true
   },
   "outputs": [],
   "source": [
    "\n",
    "DIR = r'data_folder/wordcounts'\n",
    "allfiles = glob.glob(os.path.join(DIR,\"*.CSV\"))\n",
    "\n",
    "p = .5\n",
    "rand_sample = [ allfiles[i] for i in sorted(random.sample(xrange(len(allfiles)), int(p * len(allfiles)))) ]\n",
    "rand_sample\n",
    "    \n",
    "np_array_list = []\n",
    "for file_ in rand_sample:\n",
    "    df = pd.read_csv(file_,index_col=None, header=0)\n",
    "    df['source'] = file_\n",
    "    np_array_list.append(df.as_matrix())\n",
    "    \n",
    "comb_np_array = np.vstack(np_array_list)\n",
    "big_frame = pd.DataFrame(comb_np_array)\n",
    "big_frame.columns = ['words','count','source']\n",
    "\n",
    "big_frame = big_frame.pivot(index = 'source',columns = 'words', values = 'count')\n",
    "big_frame = big_frame.fillna(value = 0)"
   ]
  },
  {
   "cell_type": "code",
   "execution_count": 85,
   "metadata": {
    "collapsed": false
   },
   "outputs": [
    {
     "data": {
      "text/html": [
       "<div>\n",
       "<table border=\"1\" class=\"dataframe\">\n",
       "  <thead>\n",
       "    <tr style=\"text-align: right;\">\n",
       "      <th>words</th>\n",
       "      <th>nan</th>\n",
       "      <th>aac</th>\n",
       "      <th>aacm</th>\n",
       "      <th>aalen</th>\n",
       "      <th>aam</th>\n",
       "      <th>aare</th>\n",
       "      <th>aaron</th>\n",
       "      <th>abandon</th>\n",
       "      <th>abandoned</th>\n",
       "      <th>abandonment</th>\n",
       "      <th>...</th>\n",
       "      <th>zurich</th>\n",
       "      <th>zv</th>\n",
       "      <th>zvi</th>\n",
       "      <th>zw</th>\n",
       "      <th>zwet</th>\n",
       "      <th>zx</th>\n",
       "      <th>zy</th>\n",
       "      <th>zygmund</th>\n",
       "      <th>zygosity</th>\n",
       "      <th>zz</th>\n",
       "    </tr>\n",
       "    <tr>\n",
       "      <th>source</th>\n",
       "      <th></th>\n",
       "      <th></th>\n",
       "      <th></th>\n",
       "      <th></th>\n",
       "      <th></th>\n",
       "      <th></th>\n",
       "      <th></th>\n",
       "      <th></th>\n",
       "      <th></th>\n",
       "      <th></th>\n",
       "      <th></th>\n",
       "      <th></th>\n",
       "      <th></th>\n",
       "      <th></th>\n",
       "      <th></th>\n",
       "      <th></th>\n",
       "      <th></th>\n",
       "      <th></th>\n",
       "      <th></th>\n",
       "      <th></th>\n",
       "      <th></th>\n",
       "    </tr>\n",
       "  </thead>\n",
       "  <tbody>\n",
       "    <tr>\n",
       "      <th>data_folder/wordcounts/wordcounts_10.2307_2276742.CSV</th>\n",
       "      <td>0</td>\n",
       "      <td>0</td>\n",
       "      <td>0</td>\n",
       "      <td>0</td>\n",
       "      <td>0</td>\n",
       "      <td>0</td>\n",
       "      <td>0</td>\n",
       "      <td>0</td>\n",
       "      <td>0</td>\n",
       "      <td>0</td>\n",
       "      <td>...</td>\n",
       "      <td>0</td>\n",
       "      <td>0</td>\n",
       "      <td>0</td>\n",
       "      <td>0</td>\n",
       "      <td>0</td>\n",
       "      <td>0</td>\n",
       "      <td>0</td>\n",
       "      <td>0</td>\n",
       "      <td>0</td>\n",
       "      <td>0</td>\n",
       "    </tr>\n",
       "    <tr>\n",
       "      <th>data_folder/wordcounts/wordcounts_10.2307_2276818.CSV</th>\n",
       "      <td>0</td>\n",
       "      <td>0</td>\n",
       "      <td>0</td>\n",
       "      <td>0</td>\n",
       "      <td>0</td>\n",
       "      <td>0</td>\n",
       "      <td>0</td>\n",
       "      <td>0</td>\n",
       "      <td>0</td>\n",
       "      <td>0</td>\n",
       "      <td>...</td>\n",
       "      <td>0</td>\n",
       "      <td>0</td>\n",
       "      <td>0</td>\n",
       "      <td>0</td>\n",
       "      <td>0</td>\n",
       "      <td>0</td>\n",
       "      <td>0</td>\n",
       "      <td>0</td>\n",
       "      <td>0</td>\n",
       "      <td>0</td>\n",
       "    </tr>\n",
       "    <tr>\n",
       "      <th>data_folder/wordcounts/wordcounts_10.2307_2276825.CSV</th>\n",
       "      <td>0</td>\n",
       "      <td>0</td>\n",
       "      <td>0</td>\n",
       "      <td>0</td>\n",
       "      <td>0</td>\n",
       "      <td>0</td>\n",
       "      <td>0</td>\n",
       "      <td>0</td>\n",
       "      <td>0</td>\n",
       "      <td>0</td>\n",
       "      <td>...</td>\n",
       "      <td>0</td>\n",
       "      <td>0</td>\n",
       "      <td>0</td>\n",
       "      <td>0</td>\n",
       "      <td>0</td>\n",
       "      <td>0</td>\n",
       "      <td>0</td>\n",
       "      <td>0</td>\n",
       "      <td>0</td>\n",
       "      <td>0</td>\n",
       "    </tr>\n",
       "    <tr>\n",
       "      <th>data_folder/wordcounts/wordcounts_10.2307_2276843.CSV</th>\n",
       "      <td>0</td>\n",
       "      <td>0</td>\n",
       "      <td>0</td>\n",
       "      <td>0</td>\n",
       "      <td>0</td>\n",
       "      <td>0</td>\n",
       "      <td>0</td>\n",
       "      <td>0</td>\n",
       "      <td>0</td>\n",
       "      <td>0</td>\n",
       "      <td>...</td>\n",
       "      <td>0</td>\n",
       "      <td>0</td>\n",
       "      <td>0</td>\n",
       "      <td>0</td>\n",
       "      <td>0</td>\n",
       "      <td>0</td>\n",
       "      <td>0</td>\n",
       "      <td>0</td>\n",
       "      <td>0</td>\n",
       "      <td>0</td>\n",
       "    </tr>\n",
       "    <tr>\n",
       "      <th>data_folder/wordcounts/wordcounts_10.2307_2276856.CSV</th>\n",
       "      <td>0</td>\n",
       "      <td>0</td>\n",
       "      <td>0</td>\n",
       "      <td>0</td>\n",
       "      <td>0</td>\n",
       "      <td>0</td>\n",
       "      <td>0</td>\n",
       "      <td>0</td>\n",
       "      <td>0</td>\n",
       "      <td>0</td>\n",
       "      <td>...</td>\n",
       "      <td>0</td>\n",
       "      <td>0</td>\n",
       "      <td>0</td>\n",
       "      <td>0</td>\n",
       "      <td>0</td>\n",
       "      <td>0</td>\n",
       "      <td>0</td>\n",
       "      <td>0</td>\n",
       "      <td>0</td>\n",
       "      <td>0</td>\n",
       "    </tr>\n",
       "  </tbody>\n",
       "</table>\n",
       "<p>5 rows × 10158 columns</p>\n",
       "</div>"
      ],
      "text/plain": [
       "words                                               NaN  aac  aacm  aalen  \\\n",
       "source                                                                      \n",
       "data_folder/wordcounts/wordcounts_10.2307_22767...    0    0     0      0   \n",
       "data_folder/wordcounts/wordcounts_10.2307_22768...    0    0     0      0   \n",
       "data_folder/wordcounts/wordcounts_10.2307_22768...    0    0     0      0   \n",
       "data_folder/wordcounts/wordcounts_10.2307_22768...    0    0     0      0   \n",
       "data_folder/wordcounts/wordcounts_10.2307_22768...    0    0     0      0   \n",
       "\n",
       "words                                               aam  aare  aaron  abandon  \\\n",
       "source                                                                          \n",
       "data_folder/wordcounts/wordcounts_10.2307_22767...    0     0      0        0   \n",
       "data_folder/wordcounts/wordcounts_10.2307_22768...    0     0      0        0   \n",
       "data_folder/wordcounts/wordcounts_10.2307_22768...    0     0      0        0   \n",
       "data_folder/wordcounts/wordcounts_10.2307_22768...    0     0      0        0   \n",
       "data_folder/wordcounts/wordcounts_10.2307_22768...    0     0      0        0   \n",
       "\n",
       "words                                               abandoned  abandonment  \\\n",
       "source                                                                       \n",
       "data_folder/wordcounts/wordcounts_10.2307_22767...          0            0   \n",
       "data_folder/wordcounts/wordcounts_10.2307_22768...          0            0   \n",
       "data_folder/wordcounts/wordcounts_10.2307_22768...          0            0   \n",
       "data_folder/wordcounts/wordcounts_10.2307_22768...          0            0   \n",
       "data_folder/wordcounts/wordcounts_10.2307_22768...          0            0   \n",
       "\n",
       "words                                              ...  zurich  zv  zvi  zw  \\\n",
       "source                                             ...                        \n",
       "data_folder/wordcounts/wordcounts_10.2307_22767... ...       0   0    0   0   \n",
       "data_folder/wordcounts/wordcounts_10.2307_22768... ...       0   0    0   0   \n",
       "data_folder/wordcounts/wordcounts_10.2307_22768... ...       0   0    0   0   \n",
       "data_folder/wordcounts/wordcounts_10.2307_22768... ...       0   0    0   0   \n",
       "data_folder/wordcounts/wordcounts_10.2307_22768... ...       0   0    0   0   \n",
       "\n",
       "words                                               zwet  zx  zy  zygmund  \\\n",
       "source                                                                      \n",
       "data_folder/wordcounts/wordcounts_10.2307_22767...     0   0   0        0   \n",
       "data_folder/wordcounts/wordcounts_10.2307_22768...     0   0   0        0   \n",
       "data_folder/wordcounts/wordcounts_10.2307_22768...     0   0   0        0   \n",
       "data_folder/wordcounts/wordcounts_10.2307_22768...     0   0   0        0   \n",
       "data_folder/wordcounts/wordcounts_10.2307_22768...     0   0   0        0   \n",
       "\n",
       "words                                               zygosity  zz  \n",
       "source                                                            \n",
       "data_folder/wordcounts/wordcounts_10.2307_22767...         0   0  \n",
       "data_folder/wordcounts/wordcounts_10.2307_22768...         0   0  \n",
       "data_folder/wordcounts/wordcounts_10.2307_22768...         0   0  \n",
       "data_folder/wordcounts/wordcounts_10.2307_22768...         0   0  \n",
       "data_folder/wordcounts/wordcounts_10.2307_22768...         0   0  \n",
       "\n",
       "[5 rows x 10158 columns]"
      ]
     },
     "execution_count": 85,
     "metadata": {},
     "output_type": "execute_result"
    }
   ],
   "source": [
    "big_frame = big_frame.loc[:, (big_frame.sum(axis = 0) > 2)]\n",
    "big_frame = big_frame.loc[:, (big_frame.sum(axis = 0) < 20)]\n",
    "big_frame.head()\n"
   ]
  },
  {
   "cell_type": "code",
   "execution_count": 86,
   "metadata": {
    "collapsed": false
   },
   "outputs": [
    {
     "data": {
      "text/plain": [
       "0   -970.881264\n",
       "dtype: float64"
      ]
     },
     "execution_count": 86,
     "metadata": {},
     "output_type": "execute_result"
    }
   ],
   "source": [
    "def log_multinomial_beta(alpha):\n",
    "    '''\n",
    "    Function to take the logarithm of the multinomial beta function\n",
    "    '''\n",
    "    return np.sum(gammaln(alpha)) - gammaln(np.sum(alpha))\n",
    "\n",
    "testAlpha = pd.DataFrame(random.sample(range(1,100),10),index = xrange(10), columns = xrange(1))\n",
    "log_multinomial_beta(testAlpha)\n"
   ]
  },
  {
   "cell_type": "code",
   "execution_count": 89,
   "metadata": {
    "collapsed": false
   },
   "outputs": [
    {
     "data": {
      "text/plain": [
       "(500, 10158)"
      ]
     },
     "execution_count": 89,
     "metadata": {},
     "output_type": "execute_result"
    }
   ],
   "source": [
    "big_frame.shape\n"
   ]
  },
  {
   "cell_type": "code",
   "execution_count": 105,
   "metadata": {
    "collapsed": false
   },
   "outputs": [],
   "source": [
    "#Run this, but not the one that looks the same below it\n",
    "M, N = big_frame.shape\n",
    "\n",
    "# Dimensions\n",
    "# M: Number of documents\n",
    "# N: Number of words\n",
    "# ntopics: Number of topics\n",
    "\n",
    "alpha = .3\n",
    "beta = .4\n",
    "burn_in = 10\n",
    "max_iter = 100\n",
    "ntopics = 6\n",
    "\n",
    "# Number of times topic z and word w interact\n",
    "NZW = np.zeros((ntoics,N), dtype=np.float64) + beta\n",
    "\n",
    "# Number of times document m and topic z interact\n",
    "NZM = np.zeros((ntopics,M), dtype = np.float64) + alpha\n",
    "\n",
    "# Summing over words\n",
    "NZ = NZW.sum(axis=0)\n",
    "\n",
    "# Summing over topics topics and words\n",
    "\n",
    "Z = np.zeros((M,N), dtype = np.float64)\n",
    "Phi = np.zeros((N,ntopics), dtype = np.float64)\n",
    "Theta = np.zeros((N,ntopics), dtype = np.float64)\n",
    "topicdraw = np.ones((1,ntopics), dtype = np.float64) / ntopics\n",
    "read_out_Phi = np.zeros((N,ntopics), dtype = np.float64)\n",
    "read_out_Theta = np.zeros((ntopics,M))\n",
    "read_out_sampling_num = 0\n",
    "logPw_z = np.zeros(max_iter, dtype = np.float64)\n",
    "betaVec = np.ones(ntopics, dtype = np.float64) * beta\n",
    "sampling_lag = 10\n",
    "\n",
    "Z = np.where(np.random.multinomial(1,[1./ntopics]*ntopics,size = M*N )==1)[1]\n",
    "Z_index = Z.reshape(M*N)\n",
    "Z = Z.reshape(M,N)\n",
    "Z_iter = Z.reshape(N,M)\n",
    "\n",
    "big_frame_index = big_frame.stack()"
   ]
  },
  {
   "cell_type": "code",
   "execution_count": 112,
   "metadata": {
    "collapsed": false
   },
   "outputs": [
    {
     "data": {
      "text/plain": [
       "array([ 1780.,  1648.,  1681.,  1683.,  1693.,  1673.])"
      ]
     },
     "execution_count": 112,
     "metadata": {},
     "output_type": "execute_result"
    }
   ],
   "source": [
    "itemfreq(Z_iter[:,1])[:,1]"
   ]
  },
  {
   "cell_type": "code",
   "execution_count": 113,
   "metadata": {
    "collapsed": false
   },
   "outputs": [],
   "source": [
    "from scipy.stats import itemfreq\n",
    "\n",
    "index_counts = np.zeros((ntopics,M),dtype = np.float64)\n",
    "\n",
    "for m in xrange(M):\n",
    "    index_counts[:,m] = itemfreq(Z_iter[:,m])[:,1]\n"
   ]
  },
  {
   "cell_type": "code",
   "execution_count": 114,
   "metadata": {
    "collapsed": false
   },
   "outputs": [
    {
     "data": {
      "text/plain": [
       "array([[ 1681.,  1780.,  1751., ...,  1651.,  1705.,  1650.],\n",
       "       [ 1742.,  1648.,  1681., ...,  1680.,  1721.,  1650.],\n",
       "       [ 1696.,  1681.,  1699., ...,  1707.,  1651.,  1719.],\n",
       "       [ 1619.,  1683.,  1675., ...,  1746.,  1680.,  1663.],\n",
       "       [ 1669.,  1693.,  1707., ...,  1695.,  1744.,  1709.],\n",
       "       [ 1751.,  1673.,  1645., ...,  1679.,  1657.,  1767.]])"
      ]
     },
     "execution_count": 114,
     "metadata": {},
     "output_type": "execute_result"
    }
   ],
   "source": [
    "index_counts"
   ]
  },
  {
   "cell_type": "code",
   "execution_count": 115,
   "metadata": {
    "collapsed": false
   },
   "outputs": [
    {
     "data": {
      "text/plain": [
       "array([[ 0.3,  0.3,  0.3, ...,  0.3,  0.3,  0.3],\n",
       "       [ 0.3,  0.3,  0.3, ...,  0.3,  0.3,  0.3],\n",
       "       [ 0.3,  0.3,  0.3, ...,  0.3,  0.3,  0.3],\n",
       "       [ 0.3,  0.3,  0.3, ...,  0.3,  0.3,  0.3],\n",
       "       [ 0.3,  0.3,  0.3, ...,  0.3,  0.3,  0.3],\n",
       "       [ 0.3,  0.3,  0.3, ...,  0.3,  0.3,  0.3]])"
      ]
     },
     "execution_count": 115,
     "metadata": {},
     "output_type": "execute_result"
    }
   ],
   "source": [
    "NZM"
   ]
  },
  {
   "cell_type": "code",
   "execution_count": 117,
   "metadata": {
    "collapsed": false
   },
   "outputs": [
    {
     "data": {
      "text/plain": [
       "(10158, 6)"
      ]
     },
     "execution_count": 117,
     "metadata": {},
     "output_type": "execute_result"
    }
   ],
   "source": [
    "NZW.shape"
   ]
  },
  {
   "cell_type": "code",
   "execution_count": 82,
   "metadata": {
    "collapsed": false
   },
   "outputs": [
    {
     "data": {
      "text/plain": [
       "(6, 500)"
      ]
     },
     "execution_count": 82,
     "metadata": {},
     "output_type": "execute_result"
    }
   ],
   "source": [
    "# I keep getting memory errors, so had to use a loop to iterate\n",
    "# is there some way to get around this?\n",
    "for m in xrange(M):\n",
    "    NZM[Z_index,m] = index_count[:,m]\n",
    "    \n",
    "NZW[big_frame_index,Z_index] +=1\n",
    "NZ[Z_index] += 1\n"
   ]
  },
  {
   "cell_type": "code",
   "execution_count": 88,
   "metadata": {
    "collapsed": false
   },
   "outputs": [
    {
     "ename": "MemoryError",
     "evalue": "",
     "output_type": "error",
     "traceback": [
      "\u001b[1;31m---------------------------------------------------------------------------\u001b[0m",
      "\u001b[1;31mMemoryError\u001b[0m                               Traceback (most recent call last)",
      "\u001b[1;32m<ipython-input-88-087ab1ede05d>\u001b[0m in \u001b[0;36m<module>\u001b[1;34m()\u001b[0m\n\u001b[0;32m      2\u001b[0m \u001b[1;31m# a memory error\u001b[0m\u001b[1;33m\u001b[0m\u001b[1;33m\u001b[0m\u001b[0m\n\u001b[0;32m      3\u001b[0m \u001b[1;33m\u001b[0m\u001b[0m\n\u001b[1;32m----> 4\u001b[1;33m \u001b[0mNZM\u001b[0m\u001b[1;33m[\u001b[0m\u001b[0mZ_index\u001b[0m\u001b[1;33m,\u001b[0m\u001b[1;33m:\u001b[0m\u001b[1;33m]\u001b[0m \u001b[1;33m+=\u001b[0m \u001b[1;36m1\u001b[0m\u001b[1;33m\u001b[0m\u001b[0m\n\u001b[0m\u001b[0;32m      5\u001b[0m \u001b[0mNWZ\u001b[0m\u001b[1;33m[\u001b[0m\u001b[0mbig_frame_index\u001b[0m\u001b[1;33m,\u001b[0m\u001b[0mZ_index\u001b[0m\u001b[1;33m]\u001b[0m \u001b[1;33m+=\u001b[0m\u001b[1;36m1\u001b[0m\u001b[1;33m\u001b[0m\u001b[0m\n\u001b[0;32m      6\u001b[0m \u001b[0mNZ\u001b[0m\u001b[1;33m[\u001b[0m\u001b[0mZ_index\u001b[0m\u001b[1;33m]\u001b[0m \u001b[1;33m+=\u001b[0m \u001b[1;36m1\u001b[0m\u001b[1;33m\u001b[0m\u001b[0m\n",
      "\u001b[1;31mMemoryError\u001b[0m: "
     ]
    }
   ],
   "source": [
    "# Alternative version of the one above which causes\n",
    "# a memory error\n",
    "\n",
    "NZM[Z_index,:] += 1    \n",
    "NZW[big_frame_index,Z_index] +=1\n",
    "NZ[Z_index] += 1"
   ]
  },
  {
   "cell_type": "code",
   "execution_count": null,
   "metadata": {
    "collapsed": true
   },
   "outputs": [],
   "source": [
    "# Alternative2 of the one above\n",
    "# This one is very slow\n",
    "\n",
    "# Draw the initial starting points\n",
    "for m in xrange(M):\n",
    "    for n in xrange(N):\n",
    "        NZM[Z[m,n],m] = NZM[Z[m,n],m] + 1\n",
    "        NZW[big_frame[m,n],Z[m,n]] = NZW[big_frame[m,n],Z[m,n]] + 1\n",
    "        NZ[Z[m,n]] = NZ[Z[m,n]] + 1"
   ]
  },
  {
   "cell_type": "code",
   "execution_count": 60,
   "metadata": {
    "collapsed": false
   },
   "outputs": [
    {
     "ename": "ValueError",
     "evalue": "sum(pvals[:-1]) > 1.0",
     "output_type": "error",
     "traceback": [
      "\u001b[1;31m---------------------------------------------------------------------------\u001b[0m",
      "\u001b[1;31mValueError\u001b[0m                                Traceback (most recent call last)",
      "\u001b[1;32m<ipython-input-60-e777405dc9d7>\u001b[0m in \u001b[0;36m<module>\u001b[1;34m()\u001b[0m\n\u001b[0;32m     12\u001b[0m \u001b[1;33m\u001b[0m\u001b[0m\n\u001b[0;32m     13\u001b[0m                 \u001b[0mp\u001b[0m \u001b[1;33m=\u001b[0m \u001b[0mp\u001b[0m \u001b[1;33m/\u001b[0m \u001b[0mnp\u001b[0m\u001b[1;33m.\u001b[0m\u001b[0msum\u001b[0m\u001b[1;33m(\u001b[0m\u001b[0mp\u001b[0m\u001b[1;33m)\u001b[0m\u001b[1;33m\u001b[0m\u001b[0m\n\u001b[1;32m---> 14\u001b[1;33m                 \u001b[0mZ\u001b[0m\u001b[1;33m[\u001b[0m\u001b[0mm\u001b[0m\u001b[1;33m,\u001b[0m\u001b[0mn\u001b[0m\u001b[1;33m]\u001b[0m \u001b[1;33m=\u001b[0m \u001b[0mnp\u001b[0m\u001b[1;33m.\u001b[0m\u001b[0mwhere\u001b[0m\u001b[1;33m(\u001b[0m\u001b[0mnp\u001b[0m\u001b[1;33m.\u001b[0m\u001b[0mrandom\u001b[0m\u001b[1;33m.\u001b[0m\u001b[0mmultinomial\u001b[0m\u001b[1;33m(\u001b[0m\u001b[1;36m1\u001b[0m\u001b[1;33m,\u001b[0m\u001b[0mp\u001b[0m\u001b[1;33m,\u001b[0m\u001b[0msize\u001b[0m \u001b[1;33m=\u001b[0m \u001b[1;36m1\u001b[0m \u001b[1;33m)\u001b[0m \u001b[1;33m==\u001b[0m \u001b[1;36m1\u001b[0m\u001b[1;33m)\u001b[0m\u001b[1;33m[\u001b[0m\u001b[1;36m1\u001b[0m\u001b[1;33m]\u001b[0m\u001b[1;33m\u001b[0m\u001b[0m\n\u001b[0m\u001b[0;32m     15\u001b[0m                 \u001b[0mNZM\u001b[0m\u001b[1;33m[\u001b[0m\u001b[0mZ\u001b[0m\u001b[1;33m[\u001b[0m\u001b[0mm\u001b[0m\u001b[1;33m,\u001b[0m\u001b[0mn\u001b[0m\u001b[1;33m]\u001b[0m\u001b[1;33m,\u001b[0m\u001b[0mm\u001b[0m\u001b[1;33m]\u001b[0m \u001b[1;33m+=\u001b[0m \u001b[1;36m1\u001b[0m\u001b[1;33m\u001b[0m\u001b[0m\n\u001b[0;32m     16\u001b[0m                 \u001b[0mNWZ\u001b[0m\u001b[1;33m[\u001b[0m\u001b[0mbig_frame\u001b[0m\u001b[1;33m.\u001b[0m\u001b[0miloc\u001b[0m\u001b[1;33m[\u001b[0m\u001b[0mm\u001b[0m\u001b[1;33m,\u001b[0m\u001b[0mn\u001b[0m\u001b[1;33m]\u001b[0m\u001b[1;33m,\u001b[0m\u001b[0mZ\u001b[0m\u001b[1;33m[\u001b[0m\u001b[0mm\u001b[0m\u001b[1;33m,\u001b[0m\u001b[0mn\u001b[0m\u001b[1;33m]\u001b[0m\u001b[1;33m]\u001b[0m \u001b[1;33m+=\u001b[0m \u001b[1;36m1\u001b[0m\u001b[1;33m\u001b[0m\u001b[0m\n",
      "\u001b[1;32mmtrand.pyx\u001b[0m in \u001b[0;36mmtrand.RandomState.multinomial (numpy/random/mtrand/mtrand.c:20588)\u001b[1;34m()\u001b[0m\n",
      "\u001b[1;31mValueError\u001b[0m: sum(pvals[:-1]) > 1.0"
     ]
    }
   ],
   "source": [
    "# This is the meat and potatoes where we\n",
    "# calculate the posterior distribution for\n",
    "# Phi and Theta\n",
    "\n",
    "Z.setflags(write=True)\n",
    "\n",
    "for iteration in xrange(max_iter):\n",
    "        for m in xrange(M):\n",
    "            for n in xrange(N):\n",
    "                #NZM[Z[m,n],m] -= 1\n",
    "                #NZW[big_frame.iloc[m,n],Z[m,n]] -= 1\n",
    "                #NZ[Z[m,n]] -= 1\n",
    "                p = np.zeros(ntopics, dtype = np.float64)\n",
    "                for k in xrange(ntopics):\n",
    "                    p[k] = NZW[big_frame.iloc[m,n],k]/NZ[k] * NZM[k,m]\n",
    "                \n",
    "                p = p / np.sum(p)\n",
    "                Z[m,n] = np.where(np.random.multinomial(1,p,size = 1 ) == 1)[1]\n",
    "                NZM[Z[m,n],m] += 1\n",
    "                NZW[big_frame.iloc[m,n],Z[m,n]] += 1\n",
    "                NZ[Z[m,n]] += 1\n",
    "        \n",
    "        \n",
    "        for ZZ in xrange(ntopics):\n",
    "            logPw_z[iteration] += log_multinomial_beta(NZW[:,ZZ]) - log_multinomial_beta(betaVec)\n",
    "        \n",
    "        if iteration % sampling_lag == 0 or iteration % sampling_lag == 1:\n",
    "            if iteration >= burn_in:\n",
    "                read_out_sampling_num = read_out_sampling_num + 1\n",
    "                for k in xrange(ntopics):\n",
    "                    read_out_Phi[:,k] += NZW[:,k] / NZ[k]\n",
    "                \n",
    "                for m in xrange(M):\n",
    "                    read_out_Theta[:,m] +=  NZM[:,m]/sum(NZM[:,m])\n",
    "                \n",
    "Phi = read_out_Phi / read_out_sampling_num\n",
    "Theta = read_out_Theta / read_out_sampling_num\n",
    "        \n",
    "      \n",
    "        \n",
    "        \n"
   ]
  },
  {
   "cell_type": "code",
   "execution_count": 92,
   "metadata": {
    "collapsed": false
   },
   "outputs": [
    {
     "data": {
      "text/plain": [
       "0.5"
      ]
     },
     "execution_count": 92,
     "metadata": {},
     "output_type": "execute_result"
    }
   ],
   "source": [
    "p"
   ]
  },
  {
   "cell_type": "code",
   "execution_count": 23,
   "metadata": {
    "collapsed": false
   },
   "outputs": [
    {
     "data": {
      "text/plain": [
       "0    0.01\n",
       "Name: 1, dtype: float64"
      ]
     },
     "execution_count": 23,
     "metadata": {},
     "output_type": "execute_result"
    }
   ],
   "source": [
    "NZW.iloc[Z,1]"
   ]
  }
 ],
 "metadata": {
  "kernelspec": {
   "display_name": "Python 2",
   "language": "python",
   "name": "python2"
  },
  "language_info": {
   "codemirror_mode": {
    "name": "ipython",
    "version": 2
   },
   "file_extension": ".py",
   "mimetype": "text/x-python",
   "name": "python",
   "nbconvert_exporter": "python",
   "pygments_lexer": "ipython2",
   "version": "2.7.6"
  }
 },
 "nbformat": 4,
 "nbformat_minor": 0
}
