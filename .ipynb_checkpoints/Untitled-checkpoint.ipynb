{
 "cells": [
  {
   "cell_type": "code",
   "execution_count": 1,
   "metadata": {
    "collapsed": true
   },
   "outputs": [],
   "source": [
    "import nltk\n",
    "import numpy as np\n",
    "import pandas as pd\n",
    "import os\n",
    "import glob\n",
    "import random\n",
    "\n",
    "from sklearn.feature_extraction.text import CountVectorizer\n",
    "from sklearn.metrics.pairwise import cosine_similarity\n",
    "from sklearn.feature_extraction.text import TfidfVectorizer\n",
    "from scipy.special import gammaln\n",
    "\n"
   ]
  },
  {
   "cell_type": "code",
   "execution_count": 2,
   "metadata": {
    "collapsed": true
   },
   "outputs": [],
   "source": [
    "\n",
    "DIR = r'data_folder/wordcounts'\n",
    "allfiles = glob.glob(os.path.join(DIR,\"*.CSV\"))\n",
    "\n",
    "p = .5\n",
    "rand_sample = [ allfiles[i] for i in sorted(random.sample(xrange(len(allfiles)), int(p * len(allfiles)))) ]\n",
    "rand_sample\n",
    "    \n",
    "np_array_list = []\n",
    "for file_ in rand_sample:\n",
    "    df = pd.read_csv(file_,index_col=None, header=0)\n",
    "    df['source'] = file_\n",
    "    np_array_list.append(df.as_matrix())\n",
    "    \n",
    "comb_np_array = np.vstack(np_array_list)\n",
    "big_frame = pd.DataFrame(comb_np_array)\n",
    "big_frame.columns = ['words','count','source']\n",
    "\n",
    "big_frame = big_frame.pivot(index = 'source',columns = 'words', values = 'count')\n",
    "big_frame = big_frame.fillna(value = 0)"
   ]
  },
  {
   "cell_type": "code",
   "execution_count": 3,
   "metadata": {
    "collapsed": false
   },
   "outputs": [
    {
     "data": {
      "text/html": [
       "<div>\n",
       "<table border=\"1\" class=\"dataframe\">\n",
       "  <thead>\n",
       "    <tr style=\"text-align: right;\">\n",
       "      <th>words</th>\n",
       "      <th>aaby</th>\n",
       "      <th>aalen</th>\n",
       "      <th>aamse</th>\n",
       "      <th>aaron</th>\n",
       "      <th>abab</th>\n",
       "      <th>ababab</th>\n",
       "      <th>abandon</th>\n",
       "      <th>abandoned</th>\n",
       "      <th>abandonment</th>\n",
       "      <th>abba</th>\n",
       "      <th>...</th>\n",
       "      <th>zurich</th>\n",
       "      <th>zurnal</th>\n",
       "      <th>zv</th>\n",
       "      <th>zvi</th>\n",
       "      <th>zw</th>\n",
       "      <th>zwet</th>\n",
       "      <th>zy</th>\n",
       "      <th>zygmund</th>\n",
       "      <th>zyskind</th>\n",
       "      <th>zz</th>\n",
       "    </tr>\n",
       "    <tr>\n",
       "      <th>source</th>\n",
       "      <th></th>\n",
       "      <th></th>\n",
       "      <th></th>\n",
       "      <th></th>\n",
       "      <th></th>\n",
       "      <th></th>\n",
       "      <th></th>\n",
       "      <th></th>\n",
       "      <th></th>\n",
       "      <th></th>\n",
       "      <th></th>\n",
       "      <th></th>\n",
       "      <th></th>\n",
       "      <th></th>\n",
       "      <th></th>\n",
       "      <th></th>\n",
       "      <th></th>\n",
       "      <th></th>\n",
       "      <th></th>\n",
       "      <th></th>\n",
       "      <th></th>\n",
       "    </tr>\n",
       "  </thead>\n",
       "  <tbody>\n",
       "    <tr>\n",
       "      <th>data_folder/wordcounts/wordcounts_10.2307_2276722.CSV</th>\n",
       "      <td>0</td>\n",
       "      <td>0</td>\n",
       "      <td>0</td>\n",
       "      <td>0</td>\n",
       "      <td>0</td>\n",
       "      <td>0</td>\n",
       "      <td>0</td>\n",
       "      <td>0</td>\n",
       "      <td>0</td>\n",
       "      <td>0</td>\n",
       "      <td>...</td>\n",
       "      <td>0</td>\n",
       "      <td>0</td>\n",
       "      <td>0</td>\n",
       "      <td>0</td>\n",
       "      <td>0</td>\n",
       "      <td>0</td>\n",
       "      <td>0</td>\n",
       "      <td>0</td>\n",
       "      <td>0</td>\n",
       "      <td>0</td>\n",
       "    </tr>\n",
       "    <tr>\n",
       "      <th>data_folder/wordcounts/wordcounts_10.2307_2276732.CSV</th>\n",
       "      <td>0</td>\n",
       "      <td>0</td>\n",
       "      <td>0</td>\n",
       "      <td>0</td>\n",
       "      <td>0</td>\n",
       "      <td>0</td>\n",
       "      <td>0</td>\n",
       "      <td>0</td>\n",
       "      <td>0</td>\n",
       "      <td>0</td>\n",
       "      <td>...</td>\n",
       "      <td>0</td>\n",
       "      <td>0</td>\n",
       "      <td>0</td>\n",
       "      <td>0</td>\n",
       "      <td>0</td>\n",
       "      <td>0</td>\n",
       "      <td>0</td>\n",
       "      <td>0</td>\n",
       "      <td>0</td>\n",
       "      <td>0</td>\n",
       "    </tr>\n",
       "    <tr>\n",
       "      <th>data_folder/wordcounts/wordcounts_10.2307_2276742.CSV</th>\n",
       "      <td>0</td>\n",
       "      <td>0</td>\n",
       "      <td>0</td>\n",
       "      <td>0</td>\n",
       "      <td>0</td>\n",
       "      <td>0</td>\n",
       "      <td>0</td>\n",
       "      <td>0</td>\n",
       "      <td>0</td>\n",
       "      <td>0</td>\n",
       "      <td>...</td>\n",
       "      <td>0</td>\n",
       "      <td>0</td>\n",
       "      <td>0</td>\n",
       "      <td>0</td>\n",
       "      <td>0</td>\n",
       "      <td>0</td>\n",
       "      <td>0</td>\n",
       "      <td>0</td>\n",
       "      <td>0</td>\n",
       "      <td>0</td>\n",
       "    </tr>\n",
       "    <tr>\n",
       "      <th>data_folder/wordcounts/wordcounts_10.2307_2276818.CSV</th>\n",
       "      <td>0</td>\n",
       "      <td>0</td>\n",
       "      <td>0</td>\n",
       "      <td>0</td>\n",
       "      <td>0</td>\n",
       "      <td>0</td>\n",
       "      <td>0</td>\n",
       "      <td>0</td>\n",
       "      <td>0</td>\n",
       "      <td>0</td>\n",
       "      <td>...</td>\n",
       "      <td>0</td>\n",
       "      <td>0</td>\n",
       "      <td>0</td>\n",
       "      <td>0</td>\n",
       "      <td>0</td>\n",
       "      <td>0</td>\n",
       "      <td>0</td>\n",
       "      <td>0</td>\n",
       "      <td>0</td>\n",
       "      <td>0</td>\n",
       "    </tr>\n",
       "    <tr>\n",
       "      <th>data_folder/wordcounts/wordcounts_10.2307_2276825.CSV</th>\n",
       "      <td>0</td>\n",
       "      <td>0</td>\n",
       "      <td>0</td>\n",
       "      <td>0</td>\n",
       "      <td>0</td>\n",
       "      <td>0</td>\n",
       "      <td>0</td>\n",
       "      <td>0</td>\n",
       "      <td>0</td>\n",
       "      <td>0</td>\n",
       "      <td>...</td>\n",
       "      <td>0</td>\n",
       "      <td>0</td>\n",
       "      <td>0</td>\n",
       "      <td>0</td>\n",
       "      <td>0</td>\n",
       "      <td>0</td>\n",
       "      <td>0</td>\n",
       "      <td>0</td>\n",
       "      <td>0</td>\n",
       "      <td>0</td>\n",
       "    </tr>\n",
       "  </tbody>\n",
       "</table>\n",
       "<p>5 rows × 9993 columns</p>\n",
       "</div>"
      ],
      "text/plain": [
       "words                                               aaby  aalen  aamse  aaron  \\\n",
       "source                                                                          \n",
       "data_folder/wordcounts/wordcounts_10.2307_22767...     0      0      0      0   \n",
       "data_folder/wordcounts/wordcounts_10.2307_22767...     0      0      0      0   \n",
       "data_folder/wordcounts/wordcounts_10.2307_22767...     0      0      0      0   \n",
       "data_folder/wordcounts/wordcounts_10.2307_22768...     0      0      0      0   \n",
       "data_folder/wordcounts/wordcounts_10.2307_22768...     0      0      0      0   \n",
       "\n",
       "words                                               abab  ababab  abandon  \\\n",
       "source                                                                      \n",
       "data_folder/wordcounts/wordcounts_10.2307_22767...     0       0        0   \n",
       "data_folder/wordcounts/wordcounts_10.2307_22767...     0       0        0   \n",
       "data_folder/wordcounts/wordcounts_10.2307_22767...     0       0        0   \n",
       "data_folder/wordcounts/wordcounts_10.2307_22768...     0       0        0   \n",
       "data_folder/wordcounts/wordcounts_10.2307_22768...     0       0        0   \n",
       "\n",
       "words                                               abandoned  abandonment  \\\n",
       "source                                                                       \n",
       "data_folder/wordcounts/wordcounts_10.2307_22767...          0            0   \n",
       "data_folder/wordcounts/wordcounts_10.2307_22767...          0            0   \n",
       "data_folder/wordcounts/wordcounts_10.2307_22767...          0            0   \n",
       "data_folder/wordcounts/wordcounts_10.2307_22768...          0            0   \n",
       "data_folder/wordcounts/wordcounts_10.2307_22768...          0            0   \n",
       "\n",
       "words                                               abba ...  zurich  zurnal  \\\n",
       "source                                                   ...                   \n",
       "data_folder/wordcounts/wordcounts_10.2307_22767...     0 ...       0       0   \n",
       "data_folder/wordcounts/wordcounts_10.2307_22767...     0 ...       0       0   \n",
       "data_folder/wordcounts/wordcounts_10.2307_22767...     0 ...       0       0   \n",
       "data_folder/wordcounts/wordcounts_10.2307_22768...     0 ...       0       0   \n",
       "data_folder/wordcounts/wordcounts_10.2307_22768...     0 ...       0       0   \n",
       "\n",
       "words                                               zv  zvi  zw  zwet  zy  \\\n",
       "source                                                                      \n",
       "data_folder/wordcounts/wordcounts_10.2307_22767...   0    0   0     0   0   \n",
       "data_folder/wordcounts/wordcounts_10.2307_22767...   0    0   0     0   0   \n",
       "data_folder/wordcounts/wordcounts_10.2307_22767...   0    0   0     0   0   \n",
       "data_folder/wordcounts/wordcounts_10.2307_22768...   0    0   0     0   0   \n",
       "data_folder/wordcounts/wordcounts_10.2307_22768...   0    0   0     0   0   \n",
       "\n",
       "words                                               zygmund  zyskind  zz  \n",
       "source                                                                    \n",
       "data_folder/wordcounts/wordcounts_10.2307_22767...        0        0   0  \n",
       "data_folder/wordcounts/wordcounts_10.2307_22767...        0        0   0  \n",
       "data_folder/wordcounts/wordcounts_10.2307_22767...        0        0   0  \n",
       "data_folder/wordcounts/wordcounts_10.2307_22768...        0        0   0  \n",
       "data_folder/wordcounts/wordcounts_10.2307_22768...        0        0   0  \n",
       "\n",
       "[5 rows x 9993 columns]"
      ]
     },
     "execution_count": 3,
     "metadata": {},
     "output_type": "execute_result"
    }
   ],
   "source": [
    "big_frame = big_frame.loc[:, (big_frame.sum(axis = 0) > 2)]\n",
    "big_frame = big_frame.loc[:, (big_frame.sum(axis = 0) < 20)]\n",
    "big_frame.head()\n"
   ]
  },
  {
   "cell_type": "code",
   "execution_count": 4,
   "metadata": {
    "collapsed": false
   },
   "outputs": [
    {
     "data": {
      "text/plain": [
       "0   -923.993245\n",
       "dtype: float64"
      ]
     },
     "execution_count": 4,
     "metadata": {},
     "output_type": "execute_result"
    }
   ],
   "source": [
    "def log_multinomial_beta(alpha):\n",
    "    '''\n",
    "    Function to take the logarithm of the multinomial beta function\n",
    "    '''\n",
    "    return np.sum(gammaln(alpha)) - gammaln(np.sum(alpha))\n",
    "\n",
    "testAlpha = pd.DataFrame(random.sample(range(1,100),10),index = xrange(10), columns = xrange(1))\n",
    "log_multinomial_beta(testAlpha)\n"
   ]
  },
  {
   "cell_type": "code",
   "execution_count": 5,
   "metadata": {
    "collapsed": true
   },
   "outputs": [],
   "source": [
    "M, N = big_frame.shape\n",
    "\n",
    "# Dimensions\n",
    "# M: Number of documents\n",
    "# N: Number of words\n",
    "# ntopics: Number of topics\n",
    "\n",
    "alpha = .01\n",
    "beta = .01\n",
    "burn_in = 10\n",
    "max_iter = 100\n",
    "ntopics = 6\n",
    "\n",
    "NWZ = np.zeros((M,ntopics), dtype=np.float64) + beta\n",
    "NZM = np.zeros((ntopics,M), dtype = np.float64) + alpha\n",
    "NZ = NWZ.sum(axis=0)\n",
    "Z = np.zeros((M,N), dtype = np.float64)\n",
    "Phi = np.zeros((M,N), dtype = np.float64)\n",
    "Theta = np.zeros((N,ntopics), dtype = np.float64)\n",
    "topicdraw = np.ones((1,ntopics), dtype = np.float64) / ntopics\n",
    "read_out_Phi = np.zeros((N,ntopics), dtype = np.float64)\n",
    "read_out_Theta = np.zeros((ntopics,M))\n",
    "read_out_sampling_num = 0\n",
    "logPw_z = np.zeros(max_iter, dtype = np.float64)\n",
    "betaVec = np.ones(ntopics, dtype = np.float64) * beta\n",
    "sampling_lag = 10\n",
    "\n",
    "Z = np.where(np.random.multinomial(1,[1./ntopics]*ntopics,size = M*N )==1)[1]\n",
    "Z_index = Z.reshape(M*N)\n",
    "Z = Z.reshape(M,N)\n",
    "big_frame_index = big_frame.stack()\n",
    "\n",
    "NWZ[Z_index,:] += 1\n",
    "NWZ[big_frame_index,Z_index] +=1\n",
    "NZ[Z_index] += 1"
   ]
  },
  {
   "cell_type": "code",
   "execution_count": null,
   "metadata": {
    "collapsed": true
   },
   "outputs": [],
   "source": [
    "        NZM.iloc[Z.iloc[m,n],m] = NZM.iloc[Z.iloc[m,n],m] + 1\n",
    "        NWZ.iloc[big_frame.iloc[m,n],Z.iloc[m,n]] = NWZ.iloc[big_frame.iloc[m,n],Z.iloc[m,n]] + 1\n",
    "        NZ.iloc[Z.iloc[m,n]] = NZ.iloc[Z.iloc[m,n]] + 1"
   ]
  },
  {
   "cell_type": "code",
   "execution_count": 35,
   "metadata": {
    "collapsed": false
   },
   "outputs": [
    {
     "data": {
      "text/plain": [
       "Int64Index([[5], [0], [3], [4], [1], [5], [1], [3], [4], [4],\n",
       "            ...\n",
       "            [3], [1], [4], [1], [4], [3], [0], [2], [4], [1]],\n",
       "           dtype='int64', length=4996500)"
      ]
     },
     "execution_count": 35,
     "metadata": {},
     "output_type": "execute_result"
    }
   ],
   "source": [
    "Z = np.where(np.random.multinomial(1,[1./ntopics]*ntopics,size = M*N )==1)[1]\n",
    "Zz = pd.Index(Z.reshape(M*N,1))\n",
    "Zz"
   ]
  },
  {
   "cell_type": "code",
   "execution_count": 23,
   "metadata": {
    "collapsed": false
   },
   "outputs": [
    {
     "data": {
      "text/plain": [
       "0    0.01\n",
       "Name: 1, dtype: float64"
      ]
     },
     "execution_count": 23,
     "metadata": {},
     "output_type": "execute_result"
    }
   ],
   "source": [
    "NWZ.iloc[Z,1]"
   ]
  }
 ],
 "metadata": {
  "kernelspec": {
   "display_name": "Python 2",
   "language": "python",
   "name": "python2"
  },
  "language_info": {
   "codemirror_mode": {
    "name": "ipython",
    "version": 2
   },
   "file_extension": ".py",
   "mimetype": "text/x-python",
   "name": "python",
   "nbconvert_exporter": "python",
   "pygments_lexer": "ipython2",
   "version": "2.7.6"
  }
 },
 "nbformat": 4,
 "nbformat_minor": 0
}
