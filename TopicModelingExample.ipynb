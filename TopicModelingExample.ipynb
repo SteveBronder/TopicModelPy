{
 "cells": [
  {
   "cell_type": "markdown",
   "metadata": {},
   "source": [
    "First we import necessary components. Note that the Fortran is imported as gibbsSampler. The package f2py available in numpy gives convenient access to wrappers from Fortran modules to Python modules."
   ]
  },
  {
   "cell_type": "code",
   "execution_count": 1,
   "metadata": {
    "collapsed": false
   },
   "outputs": [
    {
     "name": "stdout",
     "output_type": "stream",
     "text": [
      "gibbssampler(matrix,nzw,nzm,nz,nm,p_z,topics,alpha,beta,lik,[ntopics,max_iter,m,n,top_size])\n",
      "\n",
      "Wrapper for ``gibbssampler``.\n",
      "\n",
      "Parameters\n",
      "----------\n",
      "matrix : input rank-2 array('q') with bounds (n,m)\n",
      "nzw : input rank-2 array('q') with bounds (ntopics,n)\n",
      "nzm : input rank-2 array('q') with bounds (ntopics,m)\n",
      "nz : input rank-1 array('q') with bounds (ntopics)\n",
      "nm : input rank-1 array('q') with bounds (m)\n",
      "p_z : input rank-1 array('d') with bounds (ntopics)\n",
      "topics : input rank-1 array('q') with bounds (top_size)\n",
      "alpha : input float\n",
      "beta : input float\n",
      "lik : in/output rank-1 array('d') with bounds (max_iter)\n",
      "\n",
      "Other Parameters\n",
      "----------------\n",
      "ntopics : input long, optional\n",
      "    Default: shape(nzw,0)\n",
      "max_iter : input long, optional\n",
      "    Default: len(lik)\n",
      "m : input long, optional\n",
      "    Default: shape(matrix,1)\n",
      "n : input long, optional\n",
      "    Default: shape(matrix,0)\n",
      "top_size : input long, optional\n",
      "    Default: len(topics)\n",
      "\n"
     ]
    }
   ],
   "source": [
    "import os\n",
    "import sys\n",
    "sys.path.append('./fortran')\n",
    "import gibbsSampler\n",
    "print gibbsSampler.gibbs_sampler.gibbssampler.__doc__\n",
    "import numpy as np\n",
    "import scipy as sp\n",
    "import pandas as pd\n",
    "from scipy.special import gammaln\n",
    "import scipy.misc\n",
    "import random\n",
    "import os\n",
    "import glob\n",
    "import random\n",
    "random.seed(1234)\n",
    "#\n",
    "from scipy.special import gammaln\n",
    "\n"
   ]
  },
  {
   "cell_type": "markdown",
   "metadata": {},
   "source": [
    "This is the class which runs the Latent Dirichlet Allocation"
   ]
  },
  {
   "cell_type": "code",
   "execution_count": 6,
   "metadata": {
    "collapsed": true
   },
   "outputs": [],
   "source": [
    "class LdaSampler(object):\n",
    "\n",
    "    def __init__(self,  data, ntopics, alpha = .1, beta = .1):\n",
    "        \"\"\"\n",
    "        Desc: Initialize values for our class object\n",
    "        alpha: a float scalar\n",
    "        beta: a float scalar\n",
    "        ntopics: an integer for the number of topics\n",
    "        \"\"\"\n",
    "        #if not isinstance(alpha, float):\n",
    "        #    raise Exception(\" Initial value for alpha must be a floating point number (.3)\")\n",
    "\n",
    "        #if not isinstance(beta, float):\n",
    "        #    raise Exception(\" Initial value for beta must be a floating point number (.3)\")\n",
    "\n",
    "        #if not isinstance(ntopics, int):\n",
    "        #    raise Exception(\" The number of topics must be an integer\")\n",
    "\n",
    "        self.matrix = data\n",
    "        self.ntopics = ntopics\n",
    "        self.alpha = alpha\n",
    "        self.beta = beta\n",
    "        self._initialize()\n",
    "    def _initialize(self):\n",
    "        \"\"\"\n",
    "        Initialize:\n",
    "        NZM: size(#Docs X #Topics) numpy array with type float 64\n",
    "            The number of times document M and topic Z interact\n",
    "\n",
    "        NZW: size(#Topics X #Words) numpy array with type float64\n",
    "            The number of times topic Z and word W interact\n",
    "\n",
    "        NM:  size(#Docs) numpy array with type float64\n",
    "            Sum of documents occurances by topic and word\n",
    "\n",
    "        NZ:  size(#Topics) numpy array with type float64\n",
    "            Sum of Topic occurences by word and document\n",
    "\n",
    "        Topics: size(?) An empty set\n",
    "           Will come back to this\n",
    "        \"\"\"\n",
    "        ndocs, vsize = self.matrix.shape\n",
    "\n",
    "        self.NZM = np.zeros((ndocs, self.ntopics))\n",
    "        self.NZW = np.zeros((self.ntopics, vsize))\n",
    "        self.NM  = np.zeros(ndocs)\n",
    "        self.NZ  = np.zeros(self.ntopics)\n",
    "        self.topics = []\n",
    "        self.logL = []\n",
    "        \n",
    "        for m in xrange(ndocs):\n",
    "            # Iterates over i, doc_length - 1, and w, the size of unique_words - 1\n",
    "            for n in xrange(vsize):\n",
    "                if self.matrix[m,n] == 0:\n",
    "                    continue\n",
    "                for w in xrange(self.matrix[m,n]):\n",
    "                # Initialize a random topic for each word\n",
    "                    z = np.random.randint(self.ntopics)\n",
    "                    self.topics.append(z)\n",
    "                    self.NZM[m,z] += 1\n",
    "                # Why is NM being +1'd for each i,w?\n",
    "                    self.NM[m] += 1\n",
    "                    self.NZW[z,n] += 1\n",
    "                    self.NZ[z] += 1\n",
    "                # Keep document, iterator for word, word index, and assignment\n",
    "                #self.topics.append([i,w,z])\n",
    "        \n",
    "        self.topics = np.vstack(self.topics)\n",
    "\n",
    "\n",
    "    def phi_theta(self):\n",
    "        \"\"\"\n",
    "        Desc: Compute phi and theta, our topic by word probs and document by topic probs\n",
    "        Input: Self references\n",
    "        Output: Two arrays, holding\n",
    "            [0] phi: Probability of topic by word\n",
    "            [1] theta: Probability of document by topic\n",
    "        \"\"\"\n",
    "        \n",
    "\n",
    "        num_phi = self.NZW + self.beta\n",
    "        num_phi /= np.sum(num_phi, axis = 0)[np.newaxis,:]\n",
    "\n",
    "        num_theta = self.NZM + self.alpha\n",
    "        num_theta /= np.sum(num_theta,axis = 1)[:,np.newaxis ]\n",
    "\n",
    "        return num_phi, num_theta\n",
    "\n",
    "\n",
    "                \n",
    "    def run(self, maxiter = 30):\n",
    "        \"\"\"\n",
    "        Desc: Perform Gibbs sampling for maxiter iterations\n",
    "\n",
    "        Input: matrix - An array that is a Document Term Frequency Matrix\n",
    "               maxiter - An integer with the number of iterations\n",
    "               Burnin - TBA: An integer of the number of burnins\n",
    "\n",
    "        Output: phi_theta() Two arrays, holding\n",
    "        [0] Probability of topic by word\n",
    "        [1] Probability of document by topic\n",
    "        \"\"\"\n",
    "\n",
    "        M,N = self.matrix.shape\n",
    "\n",
    "        p_z = np.zeros(self.ntopics)\n",
    "        p_z += 1./self.ntopics\n",
    "        \n",
    " \n",
    "        # Make everything fortan contiguous\n",
    "        p_z=p_z.flatten() # Flatten array (Make 1-D)\n",
    "        p_z=p_z.reshape(self.ntopics, order='F')\n",
    "        run_matrix = np.array(self.matrix.transpose(),order='F')\n",
    "        run_NZM = np.array(self.NZM.transpose(),order='F')\n",
    "        run_NZW = np.array(self.NZW,order='F')\n",
    "        run_NZ = np.array(self.NZ,order='F')\n",
    "        run_NM = np.array(self.NM,order='F')\n",
    "        # index starts at 1 in fortran\n",
    "        run_topics = np.array(self.topics,order='F') + 1\n",
    "        run_topics2 = run_topics\n",
    "        \n",
    "        \n",
    "        topics2 = self.topics.transpose()\n",
    "        loglik = np.zeros(maxiter)\n",
    "        \n",
    "        gibbsSampler.gibbs_sampler.gibbssampler(matrix = run_matrix,\n",
    "                                                nzw = run_NZW,\n",
    "                                                nzm = run_NZM,\n",
    "                                                nz = run_NZ,\n",
    "                                                nm = run_NM,\n",
    "                                                max_iter = maxiter,\n",
    "                                                p_z = p_z,\n",
    "                                                m = M,\n",
    "                                                n = N,\n",
    "                                                topics = run_topics,\n",
    "                                                alpha = self.alpha,\n",
    "                                                beta = self.beta,\n",
    "                                                lik = loglik)\n",
    "                                                \n",
    "        \n",
    "        self.NZM = run_NZM.transpose()\n",
    "        self.matrix = run_matrix.transpose()\n",
    "        self.NZW = run_NZW\n",
    "        self.NZ = run_NZ\n",
    "        self.NM = run_NM\n",
    "\n",
    "        #if iteration > burnin:\n",
    "        return self.phi_theta(),loglik\n",
    "                \n",
    "  \n",
    "    def __call__(self):\n",
    "        self.NZM = self.NZM\n",
    "        self.NM = self.NM\n",
    "        self.NZW = self.NZW\n",
    "        self.NZ = self.NZ\n",
    "        self.logL = self.logL\n",
    "        \n"
   ]
  },
  {
   "cell_type": "markdown",
   "metadata": {},
   "source": [
    "Now we pull the JSTOR data and perform some manipulations"
   ]
  },
  {
   "cell_type": "code",
   "execution_count": 7,
   "metadata": {
    "collapsed": false
   },
   "outputs": [],
   "source": [
    "DIR = r'data_folder/wordcounts'\n",
    "allfiles = glob.glob(os.path.join(DIR,\"*.CSV\"))\n",
    "# p is the percent of data to take\n",
    "p=.2\n",
    "# sample files for train\n",
    "gen_sample = np.array(sorted(random.sample(xrange(len(allfiles)), int(p * len(allfiles)))))\n",
    "rand_sample = [ allfiles[i] for i in gen_sample ]\n",
    "#\n",
    "# take rest for test\n",
    "rand_sample2 = []\n",
    "for i in xrange(len(allfiles)):\n",
    "    if i not in gen_sample:\n",
    "        rand_sample2.append(allfiles[i])\n",
    "        \n",
    "# train data\n",
    "\n",
    "np_array_list = []\n",
    "for file_ in rand_sample:\n",
    "    df = pd.read_csv(file_,index_col=None, header=0)\n",
    "    df['source'] = file_\n",
    "    np_array_list.append(df.as_matrix())\n",
    "\n",
    "# train data frame\n",
    "comb_np_array = np.vstack(np_array_list)\n",
    "train_frame = pd.DataFrame(comb_np_array)\n",
    "train_frame.columns = ['words','count','source']\n",
    "subless = (train_frame['words'].str.len() > 2)\n",
    "submore = (train_frame['words'].str.len() < 20)\n",
    "train_frame = train_frame.loc[subless]\n",
    "train_frame = train_frame.loc[submore]\n",
    "train_frame = train_frame.fillna(value = 0)\n",
    "train_frame = train_frame.pivot(index = 'source',columns = 'words', values = 'count')\n",
    "train_frame = train_frame.fillna(value = 0)\n",
    "train_frame = train_frame.loc[:, (train_frame.sum(axis = 0) > 10)]\n",
    "\n",
    "train_frame1 = train_frame.values.astype(int)"
   ]
  },
  {
   "cell_type": "markdown",
   "metadata": {},
   "source": [
    "Here we make the LDA object and run it for 10 iterations"
   ]
  },
  {
   "cell_type": "code",
   "execution_count": 8,
   "metadata": {
    "collapsed": false
   },
   "outputs": [],
   "source": [
    "sampler = LdaSampler(data = train_frame1, ntopics = 5, alpha = .0001, beta = .0001)\n",
    "test_lda = sampler.run(maxiter =10)"
   ]
  },
  {
   "cell_type": "markdown",
   "metadata": {},
   "source": [
    "Running this code will let you examine the loglikelihood"
   ]
  },
  {
   "cell_type": "code",
   "execution_count": 9,
   "metadata": {
    "collapsed": false
   },
   "outputs": [],
   "source": [
    "likelihood = test_lda[1]\n",
    "import matplotlib.pyplot as plt\n",
    "plt.plot(likelihood)\n",
    "plt.ylabel('Negative Log Likelihood')\n",
    "plt.show()"
   ]
  },
  {
   "cell_type": "markdown",
   "metadata": {},
   "source": [
    "Most of the analysis was run in R, but we can get a nice taste of some of the output here. For example, below is the most probable words for topic three."
   ]
  },
  {
   "cell_type": "code",
   "execution_count": 12,
   "metadata": {
    "collapsed": false
   },
   "outputs": [
    {
     "name": "stdout",
     "output_type": "stream",
     "text": [
      "topic\n",
      "2\n"
     ]
    },
    {
     "data": {
      "text/plain": [
       "words\n",
       "drug           0.538449\n",
       "pronounced     0.538449\n",
       "dekker         0.538449\n",
       "acute          0.538449\n",
       "judged         0.538449\n",
       "hundred        0.499992\n",
       "tetrahedron    0.499988\n",
       "argue          0.499988\n",
       "perfect        0.499988\n",
       "Name: 2, dtype: float64"
      ]
     },
     "execution_count": 12,
     "metadata": {},
     "output_type": "execute_result"
    }
   ],
   "source": [
    "phi_theta = test_lda[0]\n",
    "phi = pd.DataFrame(data=phi_theta[0], columns = train_frame.columns)\n",
    "theta = pd.DataFrame(data=phi_theta[1])\n",
    "dat_phi = phi.transpose()\n",
    "\n",
    "col_ = 2\n",
    "dat_phi = dat_phi.sort_values(col_,ascending=False)\n",
    "print \"topic\"\n",
    "print col_\n",
    "dat_phi.iloc[1:10,col_]"
   ]
  }
 ],
 "metadata": {
  "kernelspec": {
   "display_name": "Python 2",
   "language": "python",
   "name": "python2"
  },
  "language_info": {
   "codemirror_mode": {
    "name": "ipython",
    "version": 2
   },
   "file_extension": ".py",
   "mimetype": "text/x-python",
   "name": "python",
   "nbconvert_exporter": "python",
   "pygments_lexer": "ipython2",
   "version": "2.7.6"
  }
 },
 "nbformat": 4,
 "nbformat_minor": 0
}
